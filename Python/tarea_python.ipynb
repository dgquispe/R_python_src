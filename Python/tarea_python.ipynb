{
 "cells": [
  {
   "cell_type": "code",
   "execution_count": null,
   "id": "85fbcbf6",
   "metadata": {},
   "outputs": [],
   "source": [
    "# 1- Use f-string para concaternar textos o valores numéricos. De 2 ejemplos."
   ]
  },
  {
   "cell_type": "code",
   "execution_count": 10,
   "id": "4a30ecc8",
   "metadata": {},
   "outputs": [],
   "source": [
    "marca = (\"Toyota\",\"kia\")\n",
    "año = 2022\n"
   ]
  },
  {
   "cell_type": "code",
   "execution_count": 12,
   "id": "1f671654",
   "metadata": {},
   "outputs": [
    {
     "name": "stdout",
     "output_type": "stream",
     "text": [
      "Su auto marca kia es del año: 2022\n"
     ]
    }
   ],
   "source": [
    "print(f'Su auto marca {marca[1]} es del año: {año}')"
   ]
  },
  {
   "cell_type": "code",
   "execution_count": 17,
   "id": "816da25f",
   "metadata": {},
   "outputs": [],
   "source": [
    "raza = (\"Pastor alemán\", \"Pitbull\", \"Doberman\")\n",
    "nombre = (\"Bolita\", \"Blanca\", \"Frufru\")\n",
    "edad = (\"3\",\"2\",\"3\")"
   ]
  },
  {
   "cell_type": "code",
   "execution_count": 19,
   "id": "3a106ec4",
   "metadata": {},
   "outputs": [
    {
     "name": "stdout",
     "output_type": "stream",
     "text": [
      "El perro de raza Doberman , cuyo nombre es Frufru tiene 3 años\n"
     ]
    }
   ],
   "source": [
    "print(f'El perro de raza {raza[2]} , cuyo nombre es {nombre[2]} tiene {edad[2]} años')"
   ]
  },
  {
   "cell_type": "code",
   "execution_count": null,
   "id": "ff8a6a8f",
   "metadata": {},
   "outputs": [],
   "source": [
    "#2- Crear una Lista de 3 distritos de Lima, añadir 2 distritos del Callao. Extraer el primer y último elemento usando el Indexing"
   ]
  },
  {
   "cell_type": "code",
   "execution_count": 52,
   "id": "4de7c3ee",
   "metadata": {},
   "outputs": [],
   "source": [
    "dist_lima = [\"Ate\", \"Lince\", \"Los Olivos\"]"
   ]
  },
  {
   "cell_type": "code",
   "execution_count": 53,
   "id": "1e161f3f",
   "metadata": {},
   "outputs": [],
   "source": [
    "dist_lima.append('La Perla', 'Chucuito')"
   ]
  },
  {
   "cell_type": "code",
   "execution_count": 54,
   "id": "2d5172ee",
   "metadata": {},
   "outputs": [
    {
     "name": "stdout",
     "output_type": "stream",
     "text": [
      "['Ate', 'Lince', 'Los Olivos', ('La Perla', 'Chucuito')]\n"
     ]
    }
   ],
   "source": [
    "print(dist_lima)"
   ]
  },
  {
   "cell_type": "code",
   "execution_count": 55,
   "id": "60477b0c",
   "metadata": {},
   "outputs": [
    {
     "data": {
      "text/plain": [
       "'Ate'"
      ]
     },
     "execution_count": 55,
     "metadata": {},
     "output_type": "execute_result"
    }
   ],
   "source": [
    "dist_lima[0]"
   ]
  },
  {
   "cell_type": "code",
   "execution_count": 56,
   "id": "ea570f84",
   "metadata": {},
   "outputs": [
    {
     "data": {
      "text/plain": [
       "('La Perla', 'Chucuito')"
      ]
     },
     "execution_count": 56,
     "metadata": {},
     "output_type": "execute_result"
    }
   ],
   "source": [
    "dist_lima[-1]"
   ]
  },
  {
   "cell_type": "code",
   "execution_count": null,
   "id": "96814428",
   "metadata": {},
   "outputs": [],
   "source": [
    "#3- Crear un diccionario con los 5 distritos del ejercicio a. Incluir información de población proyectada e incidencia de pobreza (limite superior).Use la información del Mapa de Pobreza 2018"
   ]
  },
  {
   "cell_type": "code",
   "execution_count": null,
   "id": "03adbc2d",
   "metadata": {},
   "outputs": [],
   "source": [
    "dic_dist = {'Ate': , 'Lince': , 'Los Olivos': , 'La Perla': , 'Chucuito': }"
   ]
  }
 ],
 "metadata": {
  "kernelspec": {
   "display_name": "Python 3 (ipykernel)",
   "language": "python",
   "name": "python3"
  },
  "language_info": {
   "codemirror_mode": {
    "name": "ipython",
    "version": 3
   },
   "file_extension": ".py",
   "mimetype": "text/x-python",
   "name": "python",
   "nbconvert_exporter": "python",
   "pygments_lexer": "ipython3",
   "version": "3.9.7"
  }
 },
 "nbformat": 4,
 "nbformat_minor": 5
}
