{
 "cells": [
  {
   "cell_type": "code",
   "execution_count": null,
   "id": "da2ba61d",
   "metadata": {},
   "outputs": [],
   "source": [
    "# 1- Use f-string para concaternar textos o valores numéricos. De 2 ejemplos."
   ]
  },
  {
   "cell_type": "code",
   "execution_count": 10,
   "id": "88a81cfe",
   "metadata": {},
   "outputs": [],
   "source": [
    "marca = (\"Toyota\",\"kia\")\n",
    "año = 2022\n"
   ]
  },
  {
   "cell_type": "code",
   "execution_count": 12,
   "id": "1744bf9b",
   "metadata": {},
   "outputs": [
    {
     "name": "stdout",
     "output_type": "stream",
     "text": [
      "Su auto marca kia es del año: 2022\n"
     ]
    }
   ],
   "source": [
    "print(f'Su auto marca {marca[1]} es del año: {año}')"
   ]
  },
  {
   "cell_type": "code",
   "execution_count": 17,
   "id": "8cb7c768",
   "metadata": {},
   "outputs": [],
   "source": [
    "raza = (\"Pastor alemán\", \"Pitbull\", \"Doberman\")\n",
    "nombre = (\"Bolita\", \"Blanca\", \"Frufru\")\n",
    "edad = (\"3\",\"2\",\"3\")"
   ]
  },
  {
   "cell_type": "code",
   "execution_count": 19,
   "id": "971384f2",
   "metadata": {},
   "outputs": [
    {
     "name": "stdout",
     "output_type": "stream",
     "text": [
      "El perro de raza Doberman , cuyo nombre es Frufru tiene 3 años\n"
     ]
    }
   ],
   "source": [
    "print(f'El perro de raza {raza[2]} , cuyo nombre es {nombre[2]} tiene {edad[2]} años')"
   ]
  },
  {
   "cell_type": "code",
   "execution_count": null,
   "id": "01ab0d32",
   "metadata": {},
   "outputs": [],
   "source": [
    "#2- Crear una Lista de 3 distritos de Lima, añadir 2 distritos del Callao. Extraer el primer y último elemento usando el Indexing"
   ]
  },
  {
   "cell_type": "code",
   "execution_count": 52,
   "id": "b5ae2f5e",
   "metadata": {},
   "outputs": [],
   "source": [
    "dist_lima = [\"Miraflores\", \"San Isidro\", \"San Borja\"]"
   ]
  },
  {
   "cell_type": "code",
   "execution_count": 53,
   "id": "725cd76f",
   "metadata": {},
   "outputs": [],
   "source": [
    "dist_lima.append('La Perla', 'Chucuito')"
   ]
  },
  {
   "cell_type": "code",
   "execution_count": 54,
   "id": "70e9857d",
   "metadata": {},
   "outputs": [
    {
     "name": "stdout",
     "output_type": "stream",
     "text": [
      "['Ate', 'Lince', 'Los Olivos', ('La Perla', 'Chucuito')]\n"
     ]
    }
   ],
   "source": [
    "print(dist_lima)"
   ]
  },
  {
   "cell_type": "code",
   "execution_count": 55,
   "id": "59540372",
   "metadata": {},
   "outputs": [
    {
     "data": {
      "text/plain": [
       "'Ate'"
      ]
     },
     "execution_count": 55,
     "metadata": {},
     "output_type": "execute_result"
    }
   ],
   "source": [
    "dist_lima[0]"
   ]
  },
  {
   "cell_type": "code",
   "execution_count": 56,
   "id": "dae74e90",
   "metadata": {},
   "outputs": [
    {
     "data": {
      "text/plain": [
       "('La Perla', 'Chucuito')"
      ]
     },
     "execution_count": 56,
     "metadata": {},
     "output_type": "execute_result"
    }
   ],
   "source": [
    "dist_lima[-1]"
   ]
  },
  {
   "cell_type": "code",
   "execution_count": null,
   "id": "53fe470a",
   "metadata": {},
   "outputs": [],
   "source": [
    "#3- Crear un diccionario con los 5 distritos del ejercicio a. Incluir información de población proyectada e incidencia de pobreza (limite superior).Use la información del Mapa de Pobreza 2018"
   ]
  },
  {
   "cell_type": "code",
   "execution_count": 58,
   "id": "72b086de",
   "metadata": {},
   "outputs": [],
   "source": [
    "dic_dist = {'Miraflores':108855, 'San Isidro':67703 , 'San Borja':127102 , 'La Punta':3935, 'La Perla': 64454 }"
   ]
  },
  {
   "cell_type": "code",
   "execution_count": 61,
   "id": "f1519262",
   "metadata": {},
   "outputs": [],
   "source": [
    "dic_dist.update({'Miraflores':{'Pobl_prct':108855,'Pobr_inc':0.2}, 'San Isidro':{'Pobl_prct':67703,'Pobr_inc':0.1}, 'San Borja':{'Pobl_prct':127102,'Pobr_inc':0.7}, 'La Punta':{'Pobl_prct':3935,'Pobr_inc':3.7}, 'La Perla':{'Pobl_prct':64454,'Pobr_inc':4.7}})"
   ]
  },
  {
   "cell_type": "code",
   "execution_count": 71,
   "id": "b41924d8",
   "metadata": {},
   "outputs": [
    {
     "data": {
      "text/plain": [
       "{'Miraflores': {'Pobl_prct': 108855, 'Pobr_inc': 0.2},\n",
       " 'San Isidro': {'Pobl_prct': 67703, 'Pobr_inc': 0.1},\n",
       " 'San Borja': {'Pobl_prct': 127102, 'Pobr_inc': 0.7},\n",
       " 'La Punta': {'Pobl_prct': 3935, 'Pobr_inc': 3.7},\n",
       " 'La Perla': {'Pobl_prct': 64454, 'Pobr_inc': 4.7}}"
      ]
     },
     "execution_count": 71,
     "metadata": {},
     "output_type": "execute_result"
    }
   ],
   "source": [
    "dic_dist"
   ]
  },
  {
   "cell_type": "code",
   "execution_count": 90,
   "id": "5cb1849c",
   "metadata": {},
   "outputs": [
    {
     "data": {
      "text/plain": [
       "0.2"
      ]
     },
     "execution_count": 90,
     "metadata": {},
     "output_type": "execute_result"
    }
   ],
   "source": [
    "Incidencia_pobreza_Miraflores = dic_dist.get('Miraflores').get('Pobr_inc')\n",
    "Incidencia_pobreza_Miraflores"
   ]
  },
  {
   "cell_type": "code",
   "execution_count": 91,
   "id": "1d495a98",
   "metadata": {},
   "outputs": [
    {
     "data": {
      "text/plain": [
       "0.1"
      ]
     },
     "execution_count": 91,
     "metadata": {},
     "output_type": "execute_result"
    }
   ],
   "source": [
    "Incidencia_pobreza_SanIsidro = dic_dist.get('San Isidro').get('Pobr_inc')\n",
    "Incidencia_pobreza_SanIsidro"
   ]
  },
  {
   "cell_type": "code",
   "execution_count": 92,
   "id": "65389116",
   "metadata": {},
   "outputs": [
    {
     "data": {
      "text/plain": [
       "0.7"
      ]
     },
     "execution_count": 92,
     "metadata": {},
     "output_type": "execute_result"
    }
   ],
   "source": [
    "Incidencia_pobreza_SanBorja = dic_dist.get('San Borja').get('Pobr_inc')\n",
    "Incidencia_pobreza_SanBorja"
   ]
  },
  {
   "cell_type": "code",
   "execution_count": 93,
   "id": "1637a3c6",
   "metadata": {},
   "outputs": [
    {
     "data": {
      "text/plain": [
       "108855"
      ]
     },
     "execution_count": 93,
     "metadata": {},
     "output_type": "execute_result"
    }
   ],
   "source": [
    "Poblacion_Miraflores = dic_dist.get('Miraflores').get('Pobl_prct')\n",
    "Poblacion_Miraflores"
   ]
  },
  {
   "cell_type": "code",
   "execution_count": 94,
   "id": "b8daece9",
   "metadata": {},
   "outputs": [
    {
     "data": {
      "text/plain": [
       "67703"
      ]
     },
     "execution_count": 94,
     "metadata": {},
     "output_type": "execute_result"
    }
   ],
   "source": [
    "Poblacion_SanIsidro = dic_dist.get('San Isidro').get('Pobl_prct')\n",
    "Poblacion_SanIsidro"
   ]
  },
  {
   "cell_type": "code",
   "execution_count": 95,
   "id": "404c0e8c",
   "metadata": {},
   "outputs": [
    {
     "data": {
      "text/plain": [
       "127102"
      ]
     },
     "execution_count": 95,
     "metadata": {},
     "output_type": "execute_result"
    }
   ],
   "source": [
    "Poblacion_SanBorja = dic_dist.get('San Borja').get('Pobl_prct')\n",
    "Poblacion_SanBorja"
   ]
  },
  {
   "cell_type": "code",
   "execution_count": null,
   "id": "acc00398",
   "metadata": {},
   "outputs": [],
   "source": [
    "#5- Crear matrices y dar dos ejemplos de concatenación. Unión vertical y horizontal."
   ]
  },
  {
   "cell_type": "code",
   "execution_count": 150,
   "id": "dd02ba09",
   "metadata": {},
   "outputs": [],
   "source": [
    "import numpy as np\n",
    "import pandas as pd"
   ]
  },
  {
   "cell_type": "code",
   "execution_count": 111,
   "id": "b108c7ec",
   "metadata": {},
   "outputs": [],
   "source": [
    "A = np.array([np.arange(0,10,2), np.arange(10,20,2), np.arange(20,30,2)])"
   ]
  },
  {
   "cell_type": "code",
   "execution_count": 112,
   "id": "1561aa04",
   "metadata": {},
   "outputs": [],
   "source": [
    "B = np.array([np.arange(0,5), np.arange(10,15), np.arange(15,20)])"
   ]
  },
  {
   "cell_type": "code",
   "execution_count": 102,
   "id": "21d6187b",
   "metadata": {},
   "outputs": [
    {
     "data": {
      "text/plain": [
       "array([[ 0,  2,  4,  6,  8,  0,  1,  2,  3,  4],\n",
       "       [10, 12, 14, 16, 18, 10, 11, 12, 13, 14],\n",
       "       [20, 22, 24, 26, 28, 15, 16, 17, 18, 19]])"
      ]
     },
     "execution_count": 102,
     "metadata": {},
     "output_type": "execute_result"
    }
   ],
   "source": [
    "#Union horizontal\n",
    "con1 = np.concatenate((A,B), axis = 1)\n",
    "con1"
   ]
  },
  {
   "cell_type": "code",
   "execution_count": 103,
   "id": "03f9847c",
   "metadata": {},
   "outputs": [
    {
     "data": {
      "text/plain": [
       "array([[ 0,  2,  4,  6,  8],\n",
       "       [10, 12, 14, 16, 18],\n",
       "       [20, 22, 24, 26, 28],\n",
       "       [ 0,  1,  2,  3,  4],\n",
       "       [10, 11, 12, 13, 14],\n",
       "       [15, 16, 17, 18, 19]])"
      ]
     },
     "execution_count": 103,
     "metadata": {},
     "output_type": "execute_result"
    }
   ],
   "source": [
    "#Union vertical\n",
    "con2 = np.concatenate((A,B), axis = 0)\n",
    "con2"
   ]
  },
  {
   "cell_type": "code",
   "execution_count": null,
   "id": "74f49517",
   "metadata": {},
   "outputs": [],
   "source": [
    "# 6- Crear una matriz de dimensión 4x8, seleccionar las ultimas dos columnas y primeras 3 filas."
   ]
  },
  {
   "cell_type": "code",
   "execution_count": 124,
   "id": "a23529da",
   "metadata": {},
   "outputs": [],
   "source": [
    "c = np.array([np.arange(0,8), np.arange(10,18), np.arange(20,28),np.arange(30,38)])"
   ]
  },
  {
   "cell_type": "code",
   "execution_count": 125,
   "id": "cd9a6afa",
   "metadata": {},
   "outputs": [
    {
     "data": {
      "text/plain": [
       "array([[ 0,  1,  2,  3,  4,  5,  6,  7],\n",
       "       [10, 11, 12, 13, 14, 15, 16, 17],\n",
       "       [20, 21, 22, 23, 24, 25, 26, 27],\n",
       "       [30, 31, 32, 33, 34, 35, 36, 37]])"
      ]
     },
     "execution_count": 125,
     "metadata": {},
     "output_type": "execute_result"
    }
   ],
   "source": [
    "c"
   ]
  },
  {
   "cell_type": "code",
   "execution_count": 126,
   "id": "6bf62c02",
   "metadata": {},
   "outputs": [
    {
     "data": {
      "text/plain": [
       "(4, 8)"
      ]
     },
     "execution_count": 126,
     "metadata": {},
     "output_type": "execute_result"
    }
   ],
   "source": [
    "np.shape(c)"
   ]
  },
  {
   "cell_type": "code",
   "execution_count": 135,
   "id": "eadb687a",
   "metadata": {
    "scrolled": true
   },
   "outputs": [
    {
     "data": {
      "text/plain": [
       "array([[ 6,  7],\n",
       "       [16, 17],\n",
       "       [26, 27],\n",
       "       [36, 37]])"
      ]
     },
     "execution_count": 135,
     "metadata": {},
     "output_type": "execute_result"
    }
   ],
   "source": [
    "c[:,6:8]"
   ]
  },
  {
   "cell_type": "code",
   "execution_count": 131,
   "id": "14f1f06c",
   "metadata": {},
   "outputs": [
    {
     "data": {
      "text/plain": [
       "array([[ 0,  1,  2,  3,  4,  5,  6,  7],\n",
       "       [10, 11, 12, 13, 14, 15, 16, 17],\n",
       "       [20, 21, 22, 23, 24, 25, 26, 27]])"
      ]
     },
     "execution_count": 131,
     "metadata": {},
     "output_type": "execute_result"
    }
   ],
   "source": [
    "c[0:3,:]"
   ]
  },
  {
   "cell_type": "code",
   "execution_count": null,
   "id": "5e6c6704",
   "metadata": {},
   "outputs": [],
   "source": [
    "#7- Obtener el estimador de la varianza del termino de perturbación"
   ]
  },
  {
   "cell_type": "code",
   "execution_count": null,
   "id": "c2ceff58",
   "metadata": {},
   "outputs": [],
   "source": [
    "# 𝐼−𝑋(𝑋′𝑋)−1𝑋"
   ]
  },
  {
   "cell_type": "code",
   "execution_count": 137,
   "id": "c32304f3",
   "metadata": {},
   "outputs": [
    {
     "data": {
      "text/plain": [
       "array([[1., 0., 0., 0., 0., 0., 0., 0.],\n",
       "       [0., 1., 0., 0., 0., 0., 0., 0.],\n",
       "       [0., 0., 1., 0., 0., 0., 0., 0.],\n",
       "       [0., 0., 0., 1., 0., 0., 0., 0.],\n",
       "       [0., 0., 0., 0., 1., 0., 0., 0.],\n",
       "       [0., 0., 0., 0., 0., 1., 0., 0.],\n",
       "       [0., 0., 0., 0., 0., 0., 1., 0.],\n",
       "       [0., 0., 0., 0., 0., 0., 0., 1.]])"
      ]
     },
     "execution_count": 137,
     "metadata": {},
     "output_type": "execute_result"
    }
   ],
   "source": [
    "I = np.eye(8)\n",
    "I"
   ]
  },
  {
   "cell_type": "code",
   "execution_count": 139,
   "id": "b5126b2b",
   "metadata": {},
   "outputs": [
    {
     "data": {
      "text/plain": [
       "array([[ 0, 10, 20, 30],\n",
       "       [ 1, 11, 21, 31],\n",
       "       [ 2, 12, 22, 32],\n",
       "       [ 3, 13, 23, 33],\n",
       "       [ 4, 14, 24, 34],\n",
       "       [ 5, 15, 25, 35],\n",
       "       [ 6, 16, 26, 36],\n",
       "       [ 7, 17, 27, 37]])"
      ]
     },
     "execution_count": 139,
     "metadata": {},
     "output_type": "execute_result"
    }
   ],
   "source": [
    "t = c.T\n",
    "t"
   ]
  },
  {
   "cell_type": "code",
   "execution_count": 155,
   "id": "2f6070d7",
   "metadata": {},
   "outputs": [
    {
     "ename": "LinAlgError",
     "evalue": "Singular matrix",
     "output_type": "error",
     "traceback": [
      "\u001b[1;31m---------------------------------------------------------------------------\u001b[0m",
      "\u001b[1;31mLinAlgError\u001b[0m                               Traceback (most recent call last)",
      "\u001b[1;32m~\\AppData\\Local\\Temp/ipykernel_19768/2263884290.py\u001b[0m in \u001b[0;36m<module>\u001b[1;34m\u001b[0m\n\u001b[1;32m----> 1\u001b[1;33m \u001b[0mcinv\u001b[0m \u001b[1;33m=\u001b[0m \u001b[0mnp\u001b[0m\u001b[1;33m.\u001b[0m\u001b[0mlinalg\u001b[0m\u001b[1;33m.\u001b[0m\u001b[0minv\u001b[0m\u001b[1;33m(\u001b[0m\u001b[0mc\u001b[0m \u001b[1;33m@\u001b[0m \u001b[0mt\u001b[0m\u001b[1;33m)\u001b[0m\u001b[1;33m\u001b[0m\u001b[1;33m\u001b[0m\u001b[0m\n\u001b[0m",
      "\u001b[1;32m<__array_function__ internals>\u001b[0m in \u001b[0;36minv\u001b[1;34m(*args, **kwargs)\u001b[0m\n",
      "\u001b[1;32m~\\anaconda3\\lib\\site-packages\\numpy\\linalg\\linalg.py\u001b[0m in \u001b[0;36minv\u001b[1;34m(a)\u001b[0m\n\u001b[0;32m    543\u001b[0m     \u001b[0msignature\u001b[0m \u001b[1;33m=\u001b[0m \u001b[1;34m'D->D'\u001b[0m \u001b[1;32mif\u001b[0m \u001b[0misComplexType\u001b[0m\u001b[1;33m(\u001b[0m\u001b[0mt\u001b[0m\u001b[1;33m)\u001b[0m \u001b[1;32melse\u001b[0m \u001b[1;34m'd->d'\u001b[0m\u001b[1;33m\u001b[0m\u001b[1;33m\u001b[0m\u001b[0m\n\u001b[0;32m    544\u001b[0m     \u001b[0mextobj\u001b[0m \u001b[1;33m=\u001b[0m \u001b[0mget_linalg_error_extobj\u001b[0m\u001b[1;33m(\u001b[0m\u001b[0m_raise_linalgerror_singular\u001b[0m\u001b[1;33m)\u001b[0m\u001b[1;33m\u001b[0m\u001b[1;33m\u001b[0m\u001b[0m\n\u001b[1;32m--> 545\u001b[1;33m     \u001b[0mainv\u001b[0m \u001b[1;33m=\u001b[0m \u001b[0m_umath_linalg\u001b[0m\u001b[1;33m.\u001b[0m\u001b[0minv\u001b[0m\u001b[1;33m(\u001b[0m\u001b[0ma\u001b[0m\u001b[1;33m,\u001b[0m \u001b[0msignature\u001b[0m\u001b[1;33m=\u001b[0m\u001b[0msignature\u001b[0m\u001b[1;33m,\u001b[0m \u001b[0mextobj\u001b[0m\u001b[1;33m=\u001b[0m\u001b[0mextobj\u001b[0m\u001b[1;33m)\u001b[0m\u001b[1;33m\u001b[0m\u001b[1;33m\u001b[0m\u001b[0m\n\u001b[0m\u001b[0;32m    546\u001b[0m     \u001b[1;32mreturn\u001b[0m \u001b[0mwrap\u001b[0m\u001b[1;33m(\u001b[0m\u001b[0mainv\u001b[0m\u001b[1;33m.\u001b[0m\u001b[0mastype\u001b[0m\u001b[1;33m(\u001b[0m\u001b[0mresult_t\u001b[0m\u001b[1;33m,\u001b[0m \u001b[0mcopy\u001b[0m\u001b[1;33m=\u001b[0m\u001b[1;32mFalse\u001b[0m\u001b[1;33m)\u001b[0m\u001b[1;33m)\u001b[0m\u001b[1;33m\u001b[0m\u001b[1;33m\u001b[0m\u001b[0m\n\u001b[0;32m    547\u001b[0m \u001b[1;33m\u001b[0m\u001b[0m\n",
      "\u001b[1;32m~\\anaconda3\\lib\\site-packages\\numpy\\linalg\\linalg.py\u001b[0m in \u001b[0;36m_raise_linalgerror_singular\u001b[1;34m(err, flag)\u001b[0m\n\u001b[0;32m     86\u001b[0m \u001b[1;33m\u001b[0m\u001b[0m\n\u001b[0;32m     87\u001b[0m \u001b[1;32mdef\u001b[0m \u001b[0m_raise_linalgerror_singular\u001b[0m\u001b[1;33m(\u001b[0m\u001b[0merr\u001b[0m\u001b[1;33m,\u001b[0m \u001b[0mflag\u001b[0m\u001b[1;33m)\u001b[0m\u001b[1;33m:\u001b[0m\u001b[1;33m\u001b[0m\u001b[1;33m\u001b[0m\u001b[0m\n\u001b[1;32m---> 88\u001b[1;33m     \u001b[1;32mraise\u001b[0m \u001b[0mLinAlgError\u001b[0m\u001b[1;33m(\u001b[0m\u001b[1;34m\"Singular matrix\"\u001b[0m\u001b[1;33m)\u001b[0m\u001b[1;33m\u001b[0m\u001b[1;33m\u001b[0m\u001b[0m\n\u001b[0m\u001b[0;32m     89\u001b[0m \u001b[1;33m\u001b[0m\u001b[0m\n\u001b[0;32m     90\u001b[0m \u001b[1;32mdef\u001b[0m \u001b[0m_raise_linalgerror_nonposdef\u001b[0m\u001b[1;33m(\u001b[0m\u001b[0merr\u001b[0m\u001b[1;33m,\u001b[0m \u001b[0mflag\u001b[0m\u001b[1;33m)\u001b[0m\u001b[1;33m:\u001b[0m\u001b[1;33m\u001b[0m\u001b[1;33m\u001b[0m\u001b[0m\n",
      "\u001b[1;31mLinAlgError\u001b[0m: Singular matrix"
     ]
    }
   ],
   "source": [
    "cinv = np.linalg.inv(c @ t)"
   ]
  },
  {
   "cell_type": "code",
   "execution_count": null,
   "id": "2c353260",
   "metadata": {},
   "outputs": [],
   "source": []
  },
  {
   "cell_type": "code",
   "execution_count": 156,
   "id": "eafba8c7",
   "metadata": {},
   "outputs": [
    {
     "ename": "LinAlgError",
     "evalue": "Last 2 dimensions of the array must be square",
     "output_type": "error",
     "traceback": [
      "\u001b[1;31m---------------------------------------------------------------------------\u001b[0m",
      "\u001b[1;31mLinAlgError\u001b[0m                               Traceback (most recent call last)",
      "\u001b[1;32m~\\AppData\\Local\\Temp/ipykernel_19768/3322229630.py\u001b[0m in \u001b[0;36m<module>\u001b[1;34m\u001b[0m\n\u001b[1;32m----> 1\u001b[1;33m \u001b[0mprint\u001b[0m\u001b[1;33m(\u001b[0m\u001b[0mnp\u001b[0m\u001b[1;33m.\u001b[0m\u001b[0mlinalg\u001b[0m\u001b[1;33m.\u001b[0m\u001b[0mdet\u001b[0m\u001b[1;33m(\u001b[0m\u001b[0mc\u001b[0m\u001b[1;33m)\u001b[0m\u001b[1;33m)\u001b[0m\u001b[1;33m\u001b[0m\u001b[1;33m\u001b[0m\u001b[0m\n\u001b[0m",
      "\u001b[1;32m<__array_function__ internals>\u001b[0m in \u001b[0;36mdet\u001b[1;34m(*args, **kwargs)\u001b[0m\n",
      "\u001b[1;32m~\\anaconda3\\lib\\site-packages\\numpy\\linalg\\linalg.py\u001b[0m in \u001b[0;36mdet\u001b[1;34m(a)\u001b[0m\n\u001b[0;32m   2153\u001b[0m     \u001b[0ma\u001b[0m \u001b[1;33m=\u001b[0m \u001b[0masarray\u001b[0m\u001b[1;33m(\u001b[0m\u001b[0ma\u001b[0m\u001b[1;33m)\u001b[0m\u001b[1;33m\u001b[0m\u001b[1;33m\u001b[0m\u001b[0m\n\u001b[0;32m   2154\u001b[0m     \u001b[0m_assert_stacked_2d\u001b[0m\u001b[1;33m(\u001b[0m\u001b[0ma\u001b[0m\u001b[1;33m)\u001b[0m\u001b[1;33m\u001b[0m\u001b[1;33m\u001b[0m\u001b[0m\n\u001b[1;32m-> 2155\u001b[1;33m     \u001b[0m_assert_stacked_square\u001b[0m\u001b[1;33m(\u001b[0m\u001b[0ma\u001b[0m\u001b[1;33m)\u001b[0m\u001b[1;33m\u001b[0m\u001b[1;33m\u001b[0m\u001b[0m\n\u001b[0m\u001b[0;32m   2156\u001b[0m     \u001b[0mt\u001b[0m\u001b[1;33m,\u001b[0m \u001b[0mresult_t\u001b[0m \u001b[1;33m=\u001b[0m \u001b[0m_commonType\u001b[0m\u001b[1;33m(\u001b[0m\u001b[0ma\u001b[0m\u001b[1;33m)\u001b[0m\u001b[1;33m\u001b[0m\u001b[1;33m\u001b[0m\u001b[0m\n\u001b[0;32m   2157\u001b[0m     \u001b[0msignature\u001b[0m \u001b[1;33m=\u001b[0m \u001b[1;34m'D->D'\u001b[0m \u001b[1;32mif\u001b[0m \u001b[0misComplexType\u001b[0m\u001b[1;33m(\u001b[0m\u001b[0mt\u001b[0m\u001b[1;33m)\u001b[0m \u001b[1;32melse\u001b[0m \u001b[1;34m'd->d'\u001b[0m\u001b[1;33m\u001b[0m\u001b[1;33m\u001b[0m\u001b[0m\n",
      "\u001b[1;32m~\\anaconda3\\lib\\site-packages\\numpy\\linalg\\linalg.py\u001b[0m in \u001b[0;36m_assert_stacked_square\u001b[1;34m(*arrays)\u001b[0m\n\u001b[0;32m    201\u001b[0m         \u001b[0mm\u001b[0m\u001b[1;33m,\u001b[0m \u001b[0mn\u001b[0m \u001b[1;33m=\u001b[0m \u001b[0ma\u001b[0m\u001b[1;33m.\u001b[0m\u001b[0mshape\u001b[0m\u001b[1;33m[\u001b[0m\u001b[1;33m-\u001b[0m\u001b[1;36m2\u001b[0m\u001b[1;33m:\u001b[0m\u001b[1;33m]\u001b[0m\u001b[1;33m\u001b[0m\u001b[1;33m\u001b[0m\u001b[0m\n\u001b[0;32m    202\u001b[0m         \u001b[1;32mif\u001b[0m \u001b[0mm\u001b[0m \u001b[1;33m!=\u001b[0m \u001b[0mn\u001b[0m\u001b[1;33m:\u001b[0m\u001b[1;33m\u001b[0m\u001b[1;33m\u001b[0m\u001b[0m\n\u001b[1;32m--> 203\u001b[1;33m             \u001b[1;32mraise\u001b[0m \u001b[0mLinAlgError\u001b[0m\u001b[1;33m(\u001b[0m\u001b[1;34m'Last 2 dimensions of the array must be square'\u001b[0m\u001b[1;33m)\u001b[0m\u001b[1;33m\u001b[0m\u001b[1;33m\u001b[0m\u001b[0m\n\u001b[0m\u001b[0;32m    204\u001b[0m \u001b[1;33m\u001b[0m\u001b[0m\n\u001b[0;32m    205\u001b[0m \u001b[1;32mdef\u001b[0m \u001b[0m_assert_finite\u001b[0m\u001b[1;33m(\u001b[0m\u001b[1;33m*\u001b[0m\u001b[0marrays\u001b[0m\u001b[1;33m)\u001b[0m\u001b[1;33m:\u001b[0m\u001b[1;33m\u001b[0m\u001b[1;33m\u001b[0m\u001b[0m\n",
      "\u001b[1;31mLinAlgError\u001b[0m: Last 2 dimensions of the array must be square"
     ]
    }
   ],
   "source": [
    "print(np.linalg.det(c))"
   ]
  },
  {
   "cell_type": "code",
   "execution_count": null,
   "id": "25f49d91",
   "metadata": {},
   "outputs": [],
   "source": []
  }
 ],
 "metadata": {
  "kernelspec": {
   "display_name": "Python 3 (ipykernel)",
   "language": "python",
   "name": "python3"
  },
  "language_info": {
   "codemirror_mode": {
    "name": "ipython",
    "version": 3
   },
   "file_extension": ".py",
   "mimetype": "text/x-python",
   "name": "python",
   "nbconvert_exporter": "python",
   "pygments_lexer": "ipython3",
   "version": "3.9.7"
  }
 },
 "nbformat": 4,
 "nbformat_minor": 5
}
